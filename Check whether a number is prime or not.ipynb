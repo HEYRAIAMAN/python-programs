{
 "cells": [
  {
   "cell_type": "markdown",
   "metadata": {},
   "source": [
    "# algorithm \n",
    "step 1 : start\n",
    "step 2 : Take input from user and store in 'num'\n",
    "step 3 : if num > 1 else not a prime number\n",
    "step 4 : Run code from 2 to untill 'num/2'+1 and check next step else 'num' is prime number\n",
    "step 5 : if num % 2 == 0 so it is prime num and break \n",
    "step 6 : exit"
   ]
  },
  {
   "cell_type": "code",
   "execution_count": 17,
   "metadata": {},
   "outputs": [
    {
     "name": "stdout",
     "output_type": "stream",
     "text": [
      "Give number : 12\n",
      "12 is not prime num\n"
     ]
    }
   ],
   "source": [
    "num =  int(input(\"Give number : \"))\n",
    "if num > 1:\n",
    "    for i in range (2, int(num/2)+1):\n",
    "        if (num % 2) == 0:\n",
    "            print(num,\"is not prime num\")\n",
    "            break \n",
    "    else:\n",
    "        print(num,\"is prime number\")\n",
    "else:\n",
    "    print(num,\"is not a prime num\")"
   ]
  }
 ],
 "metadata": {
  "kernelspec": {
   "display_name": "Python 3",
   "language": "python",
   "name": "python3"
  },
  "language_info": {
   "codemirror_mode": {
    "name": "ipython",
    "version": 3
   },
   "file_extension": ".py",
   "mimetype": "text/x-python",
   "name": "python",
   "nbconvert_exporter": "python",
   "pygments_lexer": "ipython3",
   "version": "3.8.5"
  }
 },
 "nbformat": 4,
 "nbformat_minor": 4
}
